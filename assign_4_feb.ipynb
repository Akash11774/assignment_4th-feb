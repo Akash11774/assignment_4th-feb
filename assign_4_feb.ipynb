{
 "cells": [
  {
   "cell_type": "code",
   "execution_count": 22,
   "id": "496e5c6d-f6f9-492b-a73c-676f9c776327",
   "metadata": {},
   "outputs": [],
   "source": [
    "# question number 1 ans\n",
    "\n",
    "\n",
    "l=[(\"Sachin Tendulkar\",34357),('Rickey Pointing',27483),('Jack kallis',25534),('Virat Kholi',24936)]"
   ]
  },
  {
   "cell_type": "code",
   "execution_count": 23,
   "id": "b77f221a-6d4a-472f-9122-7cbb0c6331d5",
   "metadata": {},
   "outputs": [
    {
     "name": "stdout",
     "output_type": "stream",
     "text": [
      "[('Virat Kholi', 24936), ('Jack kallis', 25534), ('Rickey Pointing', 27483), ('Sachin Tendulkar', 34357)]\n"
     ]
    }
   ],
   "source": [
    "l.sort(key= lambda x:x[1])\n",
    "print(l)"
   ]
  },
  {
   "cell_type": "code",
   "execution_count": 2,
   "id": "c6f89502-942b-48d9-9a3e-0a9e351c90ee",
   "metadata": {},
   "outputs": [],
   "source": [
    "# question number 2\n",
    "\n",
    "l=[1,2,3,4,5,6,7,8,9,10]"
   ]
  },
  {
   "cell_type": "code",
   "execution_count": 3,
   "id": "a74a1c7d-93bd-4903-9a18-bf09b2f39d9a",
   "metadata": {},
   "outputs": [
    {
     "data": {
      "text/plain": [
       "[1, 4, 9, 16, 25, 36, 49, 64, 81, 100]"
      ]
     },
     "execution_count": 3,
     "metadata": {},
     "output_type": "execute_result"
    }
   ],
   "source": [
    "list(map(lambda x:x**2,l))"
   ]
  },
  {
   "cell_type": "code",
   "execution_count": 7,
   "id": "856fa9ac-4682-428c-86bf-a516fdc53e63",
   "metadata": {},
   "outputs": [
    {
     "data": {
      "text/plain": [
       "('1', '2', '3', '4', '5', '6', '7', '8', '9', '10')"
      ]
     },
     "execution_count": 7,
     "metadata": {},
     "output_type": "execute_result"
    }
   ],
   "source": [
    "# question number 3\n",
    "\n",
    "tuple(map(lambda x:str(x),l))"
   ]
  },
  {
   "cell_type": "code",
   "execution_count": 46,
   "id": "0cfb5abf-767c-430e-a293-22019cd5eb66",
   "metadata": {},
   "outputs": [],
   "source": [
    "# ans of question number 5\n",
    "l=[2,3,6,9,27,60,90,120,55,46]"
   ]
  },
  {
   "cell_type": "code",
   "execution_count": 48,
   "id": "b9c4f381-0770-4363-a36d-6c89ad712009",
   "metadata": {},
   "outputs": [
    {
     "data": {
      "text/plain": [
       "[6, 60, 90, 120]"
      ]
     },
     "execution_count": 48,
     "metadata": {},
     "output_type": "execute_result"
    }
   ],
   "source": [
    "list(filter(lambda x: x%2==0 and x%3==0,l))"
   ]
  },
  {
   "cell_type": "code",
   "execution_count": 60,
   "id": "588e1ffd-ce78-47a0-862d-a9c272d1b2e1",
   "metadata": {},
   "outputs": [
    {
     "name": "stdout",
     "output_type": "stream",
     "text": [
      "[1, 2, 3, 4, 5, 6, 7, 8, 9, 10, 11, 12, 13, 14, 15, 16, 17, 18, 19, 20, 21, 22, 23, 24, 25]\n"
     ]
    }
   ],
   "source": [
    "# ans of question number 4\n",
    "l1=range(1,26)\n",
    "print(list(l1))"
   ]
  },
  {
   "cell_type": "code",
   "execution_count": 62,
   "id": "5556ba45-c91f-49b6-83e0-d7f64e181a76",
   "metadata": {},
   "outputs": [
    {
     "data": {
      "text/plain": [
       "620448401733239439360000"
      ]
     },
     "execution_count": 62,
     "metadata": {},
     "output_type": "execute_result"
    }
   ],
   "source": [
    "from functools import reduce\n",
    "reduce(lambda x,y:x*y,l)"
   ]
  },
  {
   "cell_type": "code",
   "execution_count": 17,
   "id": "ea0190d5-9562-4c31-9a96-c7e9011c70b7",
   "metadata": {},
   "outputs": [],
   "source": [
    "l6=['python','php','aba','radar','level','akash']"
   ]
  },
  {
   "cell_type": "code",
   "execution_count": 18,
   "id": "d02a2694-f3b6-4d72-80f1-d408db335fec",
   "metadata": {},
   "outputs": [
    {
     "data": {
      "text/plain": [
       "['python', 'php', 'aba', 'radar', 'level', 'akash']"
      ]
     },
     "execution_count": 18,
     "metadata": {},
     "output_type": "execute_result"
    }
   ],
   "source": [
    "list(filter(lambda x : x x==x[-1::-1] else \"not found\",l6))"
   ]
  },
  {
   "cell_type": "code",
   "execution_count": null,
   "id": "2cff6b3c-790e-4884-8bee-45e9c5a8a6cc",
   "metadata": {},
   "outputs": [],
   "source": []
  }
 ],
 "metadata": {
  "kernelspec": {
   "display_name": "Python 3 (ipykernel)",
   "language": "python",
   "name": "python3"
  },
  "language_info": {
   "codemirror_mode": {
    "name": "ipython",
    "version": 3
   },
   "file_extension": ".py",
   "mimetype": "text/x-python",
   "name": "python",
   "nbconvert_exporter": "python",
   "pygments_lexer": "ipython3",
   "version": "3.10.8"
  }
 },
 "nbformat": 4,
 "nbformat_minor": 5
}
